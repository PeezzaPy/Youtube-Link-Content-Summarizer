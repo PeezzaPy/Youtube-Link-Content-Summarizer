{
 "cells": [
  {
   "cell_type": "code",
   "execution_count": 1,
   "metadata": {},
   "outputs": [
    {
     "name": "stderr",
     "output_type": "stream",
     "text": [
      "d:\\TUP SCHOOLWORKS\\3rd Year\\ACTIVITIES\\2ND SEM\\AUTOMATA\\PROJECT\\Youtube-Link-Content-Summarizer\\venv\\Lib\\site-packages\\tqdm\\auto.py:21: TqdmWarning: IProgress not found. Please update jupyter and ipywidgets. See https://ipywidgets.readthedocs.io/en/stable/user_install.html\n",
      "  from .autonotebook import tqdm as notebook_tqdm\n"
     ]
    }
   ],
   "source": [
    "from datasets import load_dataset, DatasetDict"
   ]
  },
  {
   "cell_type": "code",
   "execution_count": 2,
   "metadata": {},
   "outputs": [
    {
     "name": "stderr",
     "output_type": "stream",
     "text": [
      "Downloading data: 100%|██████████| 257M/257M [00:12<00:00, 20.9MB/s] \n",
      "Downloading data:  78%|███████▊  | 199M/257M [00:16<00:03, 15.1MB/s] Error while downloading from https://huggingface.co/datasets/cnn_dailymail/resolve/96df5e686bee6baa90b8bee7c28b81fa3fa6223d/3.0.0/train-00001-of-00003.parquet: HTTPSConnectionPool(host='cdn-lfs.huggingface.co', port=443): Read timed out.\n",
      "Trying to resume download...\n",
      "Downloading data: 100%|██████████| 257M/257M [00:42<00:00, 6.03MB/s]\n",
      "Downloading data: 100%|██████████| 259M/259M [00:48<00:00, 5.36MB/s] \n",
      "Downloading data: 100%|██████████| 34.7M/34.7M [00:05<00:00, 6.01MB/s]\n",
      "Downloading data: 100%|██████████| 30.0M/30.0M [00:05<00:00, 5.71MB/s]\n",
      "Generating train split: 100%|██████████| 287113/287113 [00:05<00:00, 52850.75 examples/s]\n",
      "Generating validation split: 100%|██████████| 13368/13368 [00:00<00:00, 17122.43 examples/s]\n",
      "Generating test split: 100%|██████████| 11490/11490 [00:00<00:00, 58690.38 examples/s]\n"
     ]
    }
   ],
   "source": [
    "def load_cnn_dailymail_dataset():\n",
    "    dataset = load_dataset('cnn_dailymail', '3.0.0')\n",
    "    return dataset\n",
    "\n",
    "dataset = load_cnn_dailymail_dataset()"
   ]
  },
  {
   "cell_type": "code",
   "execution_count": 3,
   "metadata": {},
   "outputs": [
    {
     "name": "stdout",
     "output_type": "stream",
     "text": [
      "DatasetDict({\n",
      "    train: Dataset({\n",
      "        features: ['article', 'highlights', 'id'],\n",
      "        num_rows: 287113\n",
      "    })\n",
      "    validation: Dataset({\n",
      "        features: ['article', 'highlights', 'id'],\n",
      "        num_rows: 13368\n",
      "    })\n",
      "    test: Dataset({\n",
      "        features: ['article', 'highlights', 'id'],\n",
      "        num_rows: 11490\n",
      "    })\n",
      "})\n"
     ]
    }
   ],
   "source": [
    "print(dataset)"
   ]
  },
  {
   "cell_type": "code",
   "execution_count": 4,
   "metadata": {},
   "outputs": [
    {
     "name": "stdout",
     "output_type": "stream",
     "text": [
      "DatasetDict({\n",
      "    train: Dataset({\n",
      "        features: ['article', 'highlights', 'id'],\n",
      "        num_rows: 7000\n",
      "    })\n",
      "    validation: Dataset({\n",
      "        features: ['article', 'highlights', 'id'],\n",
      "        num_rows: 1500\n",
      "    })\n",
      "    test: Dataset({\n",
      "        features: ['article', 'highlights', 'id'],\n",
      "        num_rows: 1500\n",
      "    })\n",
      "})\n"
     ]
    }
   ],
   "source": [
    "# Choose 10k dataset only\n",
    "# Get subset of 10k dataset\n",
    "subset = dataset['train'].select(range(10000))\n",
    "\n",
    "# Get 30% for validation and testing dataset\n",
    "tts_split = subset.train_test_split(test_size=0.3)\n",
    "test_split = tts_split['test']\n",
    "val_split = test_split.train_test_split(test_size=0.5)\n",
    "\n",
    "# Get the final split\n",
    "final_dataset = DatasetDict({\n",
    "   'train' : tts_split['train'],\n",
    "    'validation': val_split['train'],\n",
    "    'test': val_split['test']\n",
    "})\n",
    "\n",
    "print(final_dataset)"
   ]
  },
  {
   "cell_type": "code",
   "execution_count": 7,
   "metadata": {},
   "outputs": [],
   "source": [
    "import pandas as pd\n",
    "\n",
    "# Convert the DatasetDict to a pandas DataFrame\n",
    "df = final_dataset['train'].to_pandas()  # Assuming you want to save the 'train' split. Adjust as necessary.\n",
    "\n",
    "# Save the DataFrame to a CSV file\n",
    "df.to_csv('final_dataset.csv', index=False)"
   ]
  }
 ],
 "metadata": {
  "kernelspec": {
   "display_name": "venv",
   "language": "python",
   "name": "python3"
  },
  "language_info": {
   "codemirror_mode": {
    "name": "ipython",
    "version": 3
   },
   "file_extension": ".py",
   "mimetype": "text/x-python",
   "name": "python",
   "nbconvert_exporter": "python",
   "pygments_lexer": "ipython3",
   "version": "3.11.2"
  }
 },
 "nbformat": 4,
 "nbformat_minor": 2
}
